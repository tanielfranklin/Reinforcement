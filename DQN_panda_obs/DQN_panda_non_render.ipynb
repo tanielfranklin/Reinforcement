{
 "cells": [
  {
   "cell_type": "markdown",
   "metadata": {},
   "source": [
    "# Implementação DQN no ambiente Swift com manipulador panda.\n",
    "\n",
    "Replay buffer <br>\n",
    "DNN para representar o agente atual e uma DNN alvo com uma taxa de atualização menor."
   ]
  },
  {
   "cell_type": "code",
   "execution_count": 1,
   "metadata": {},
   "outputs": [
    {
     "name": "stderr",
     "output_type": "stream",
     "text": [
      "/home/taniel/.local/lib/python3.10/site-packages/torch/cuda/__init__.py:83: UserWarning: CUDA initialization: CUDA unknown error - this may be due to an incorrectly set up environment, e.g. changing env variable CUDA_VISIBLE_DEVICES after program start. Setting the available devices to be zero. (Triggered internally at  ../c10/cuda/CUDAFunctions.cpp:109.)\n",
      "  return torch._C._cuda_getDeviceCount() > 0\n"
     ]
    }
   ],
   "source": [
    "import torch\n",
    "import pickle\n",
    "import random\n",
    "import torch.nn as nn\n",
    "import numpy as np\n",
    "import matplotlib.pyplot as plt\n",
    "from tqdm import trange\n",
    "from IPython.display import clear_output\n",
    "from scipy.signal import convolve, gaussian\n",
    "import os\n",
    "import io\n",
    "import base64\n",
    "import time\n",
    "import glob\n",
    "from IPython.display import HTML\n",
    "from DQN_panda_utils import DQNAgent, evaluate, ReplayBuffer,\\\n",
    "        compute_td_loss,play_and_record, smoothen, epsilon_schedule,\\\n",
    "                generate_animation, display_animation\n",
    "from panda_env import Panda_RL\n",
    "                \n",
    "device = torch.device('cuda' if torch.cuda.is_available() else 'cpu')\n",
    "%matplotlib inline\n",
    "\n",
    "#j3 range -0.08 a 3.75  #j2 range -0.07 a -3. #j1 range -1.8 a 1.76"
   ]
  },
  {
   "cell_type": "code",
   "execution_count": 2,
   "metadata": {},
   "outputs": [
    {
     "data": {
      "text/plain": [
       "False"
      ]
     },
     "execution_count": 2,
     "metadata": {},
     "output_type": "execute_result"
    }
   ],
   "source": [
    "torch.cuda.is_available()"
   ]
  },
  {
   "cell_type": "markdown",
   "metadata": {},
   "source": [
    "### Sistema observável e com medidas dos ângulos disponíveis"
   ]
  },
  {
   "cell_type": "markdown",
   "metadata": {},
   "source": [
    "\n",
    "    Observation:\n",
    "        Type: Box(4)\n",
    "        Num     Observation               Min                     Max\n",
    "        0       Joint1                   -4.8                    4.8\n",
    "        1       Joint2                    -Inf                    Inf\n",
    "        2       Joint3                -0.418 rad (-24 deg)    0.418 rad (24 deg)\n",
    "        \n",
    "    Actions:\n",
    "        Type: Discrete(9)\n",
    "        Num   Three actions for each joint\n",
    "        0     decrement joint j\n",
    "        1     increment joint j\n",
    "        2     decrement join  j\n",
    "\n",
    "        #j3 range 0.0 a 3.7\n",
    "        #j2 range 0.0 a -3.\n",
    "        #j1 range -1.7 a 1.7\n",
    "\n",
    "\n",
    "        \n",
    "\n"
   ]
  },
  {
   "cell_type": "code",
   "execution_count": null,
   "metadata": {},
   "outputs": [],
   "source": []
  },
  {
   "cell_type": "code",
   "execution_count": 3,
   "metadata": {},
   "outputs": [],
   "source": [
    "# self.panda = rp.models.Panda()\n",
    "# self.panda_end = rp.models.Panda()\n",
    "# self.m=100 #magnification factor\n",
    "\n",
    "# self.obstacle = Cuboid([0.2, 0.2, 0.8], pose=sm.SE3(0.3, 0, 0)) \n",
    "# #self.floor = Cuboid([0.2, 0.2, 0.8], pose=sm.SE3(-0.2, 0, 0)) \n",
    "# self.obs_floor = Cuboid([2., 2., 0.01], pose=sm.SE3(0, 0, 0), color=[100,100,100,0])#\"black\") #color=[100,100,100,0]\n",
    "# self.scene.add(self.obs_floor)\n",
    "# self.scene.add(self.obstacle)\n",
    "# self.scene.add(self.panda, robot_alpha=0.6)\n",
    "# self.delta=delta\n",
    "# #End joints positions\n",
    "# j=[0.8,-1.5,1] \n",
    "# self.q_end=[0., j[0], 0.,j[1], 0., j[2], 0.]\n",
    "# self.Tep = self.panda.fkine(self.q_end)"
   ]
  },
  {
   "cell_type": "code",
   "execution_count": 4,
   "metadata": {},
   "outputs": [],
   "source": [
    "state_shape = 3\n",
    "env=Panda_RL()\n",
    "agent=DQNAgent(state_shape, epsilon=0).to(device)\n",
    "RESTORE_AGENT=True # Restore a trained agent\n",
    "NEW_BUFFER=False # Restore a buffer\n",
    "TRAIN=False # Train or only simulate\n",
    "env.renderize=False #stop robot viewing"
   ]
  },
  {
   "cell_type": "code",
   "execution_count": 5,
   "metadata": {},
   "outputs": [
    {
     "data": {
      "text/plain": [
       "ERobot: panda (by Franka Emika), 7 joints (RRRRRRR), 1 gripper, geometry, collision\n",
       "┌─────┬──────────────┬───────┬─────────────┬────────────────────────────────────────────────┐\n",
       "│link │     link     │ joint │   parent    │              ETS: parent to link               │\n",
       "├─────┼──────────────┼───────┼─────────────┼────────────────────────────────────────────────┤\n",
       "│   0 │ panda_link0  │       │ BASE        │                                                │\n",
       "│   1 │ panda_link1  │     0 │ panda_link0 │ SE3(0, 0, 0.333) ⊕ Rz(q0)                      │\n",
       "│   2 │ panda_link2  │     1 │ panda_link1 │ SE3(-90°, -0°, 0°) ⊕ Rz(q1)                    │\n",
       "│   3 │ panda_link3  │     2 │ panda_link2 │ SE3(0, -0.316, 0; 90°, -0°, 0°) ⊕ Rz(q2)       │\n",
       "│   4 │ panda_link4  │     3 │ panda_link3 │ SE3(0.0825, 0, 0; 90°, -0°, 0°) ⊕ Rz(q3)       │\n",
       "│   5 │ panda_link5  │     4 │ panda_link4 │ SE3(-0.0825, 0.384, 0; -90°, -0°, 0°) ⊕ Rz(q4) │\n",
       "│   6 │ panda_link6  │     5 │ panda_link5 │ SE3(90°, -0°, 0°) ⊕ Rz(q5)                     │\n",
       "│   7 │ panda_link7  │     6 │ panda_link6 │ SE3(0.088, 0, 0; 90°, -0°, 0°) ⊕ Rz(q6)        │\n",
       "│   8 │ @panda_link8 │       │ panda_link7 │ SE3(0, 0, 0.107)                               │\n",
       "└─────┴──────────────┴───────┴─────────────┴────────────────────────────────────────────────┘\n",
       "\n",
       "┌─────┬─────┬────────┬─────┬───────┬─────┬───────┬──────┐\n",
       "│name │ q0  │ q1     │ q2  │ q3    │ q4  │ q5    │ q6   │\n",
       "├─────┼─────┼────────┼─────┼───────┼─────┼───────┼──────┤\n",
       "│  qr │  0° │ -17.2° │  0° │ -126° │  0° │  115° │  45° │\n",
       "│  qz │  0° │  0°    │  0° │  0°   │  0° │  0°   │  0°  │\n",
       "└─────┴─────┴────────┴─────┴───────┴─────┴───────┴──────┘"
      ]
     },
     "execution_count": 5,
     "metadata": {},
     "output_type": "execute_result"
    }
   ],
   "source": [
    "if RESTORE_AGENT:\n",
    "    percentage_of_total_steps=0.1\n",
    "    agent.load_state_dict(torch.load('model_panda_trained3.pth'))\n",
    "    with open('td_loss_history3.pickle', 'rb') as handle:\n",
    "        td_loss_history=pickle.load(handle)\n",
    "    with open('mean_rw_history3.pickle', 'rb') as handle:\n",
    "        mean_rw_history=pickle.load(handle)\n",
    "else:\n",
    "    percentage_of_total_steps=0.9\n",
    "    mean_rw_history = []\n",
    "    td_loss_history = []\n",
    "\n",
    "env.panda"
   ]
  },
  {
   "cell_type": "code",
   "execution_count": 6,
   "metadata": {},
   "outputs": [
    {
     "data": {
      "text/plain": [
       "<All keys matched successfully>"
      ]
     },
     "execution_count": 6,
     "metadata": {},
     "output_type": "execute_result"
    }
   ],
   "source": [
    "target_network = DQNAgent(agent.state_shape, epsilon=0.5).to(device)\n",
    "#Copying weights from agent network\n",
    "target_network.load_state_dict(agent.state_dict())"
   ]
  },
  {
   "cell_type": "code",
   "execution_count": 7,
   "metadata": {},
   "outputs": [
    {
     "data": {
      "text/plain": [
       "<torch._C.Generator at 0x7feca42e6690>"
      ]
     },
     "execution_count": 7,
     "metadata": {},
     "output_type": "execute_result"
    }
   ],
   "source": [
    "env.panda.q=env.panda.qz\n",
    "# set a seed\n",
    "seed = 13\n",
    "random.seed(seed)\n",
    "np.random.seed(seed)\n",
    "torch.manual_seed(seed)\n",
    "\n",
    "\n"
   ]
  },
  {
   "cell_type": "code",
   "execution_count": 8,
   "metadata": {},
   "outputs": [
    {
     "name": "stdout",
     "output_type": "stream",
     "text": [
      "1.8716433359090923\n"
     ]
    }
   ],
   "source": [
    "q_far=np.array([ 0., -0.8 ,  0. , -0.0698,  0.,  3.3825,  0.    ])\n",
    "env.panda.q=q_far\n",
    "env.scene.step()\n",
    "print(env.distance())\n"
   ]
  },
  {
   "cell_type": "code",
   "execution_count": 9,
   "metadata": {},
   "outputs": [
    {
     "name": "stdout",
     "output_type": "stream",
     "text": [
      "0.0\n"
     ]
    },
    {
     "data": {
      "text/plain": [
       "   0.1892    0.1892   -0.9636    0.4463    \n",
       "   0.7071   -0.7071    0         0         \n",
       "  -0.6813   -0.6813   -0.2675    0.1586    \n",
       "   0         0         0         1         \n"
      ]
     },
     "execution_count": 9,
     "metadata": {},
     "output_type": "execute_result"
    }
   ],
   "source": [
    "env.panda.q=env.q_end\n",
    "env.scene.step()\n",
    "print(env.distance())\n",
    "T_end=env.panda.fkine(env.q_end)\n",
    "T_end"
   ]
  },
  {
   "cell_type": "code",
   "execution_count": 10,
   "metadata": {},
   "outputs": [
    {
     "data": {
      "text/plain": [
       "array([ 4.46288656e-01, -1.65771895e-17,  1.58573257e-01])"
      ]
     },
     "execution_count": 10,
     "metadata": {},
     "output_type": "execute_result"
    }
   ],
   "source": [
    "env.get_position()\n"
   ]
  },
  {
   "cell_type": "code",
   "execution_count": 11,
   "metadata": {},
   "outputs": [
    {
     "data": {
      "text/plain": [
       "array([[ 1.89150236e-01,  1.89150236e-01, -9.63558185e-01],\n",
       "       [ 7.07106781e-01, -7.07106781e-01, -1.52325628e-16],\n",
       "       [-6.81338527e-01, -6.81338527e-01, -2.67498829e-01]])"
      ]
     },
     "execution_count": 11,
     "metadata": {},
     "output_type": "execute_result"
    }
   ],
   "source": [
    "T_end\n",
    "R_end=np.array(T_end)[0:3,0:3]\n",
    "R_end"
   ]
  },
  {
   "cell_type": "code",
   "execution_count": 12,
   "metadata": {},
   "outputs": [
    {
     "data": {
      "text/plain": [
       "array([[ 4.46288656e-01],\n",
       "       [-1.65771895e-17],\n",
       "       [ 1.58573257e-01]])"
      ]
     },
     "execution_count": 12,
     "metadata": {},
     "output_type": "execute_result"
    }
   ],
   "source": [
    "P_end=np.array(T_end)[0:3,3:]\n",
    "P_end"
   ]
  },
  {
   "cell_type": "code",
   "execution_count": 13,
   "metadata": {},
   "outputs": [],
   "source": []
  },
  {
   "cell_type": "markdown",
   "metadata": {},
   "source": [
    "### Main loop\n",
    "\n"
   ]
  },
  {
   "cell_type": "code",
   "execution_count": 14,
   "metadata": {},
   "outputs": [],
   "source": [
    "# Fill buffer with samples collected ramdomly from environment\n",
    "buffer_len=1000\n",
    "if NEW_BUFFER:\n",
    "    exp_replay = ReplayBuffer(buffer_len)\n",
    "    #Add Expert user experience\n",
    "    q_far=np.array([ 0., -0.8 ,  0. , -0.0698,  0.,  3.3825,  0.    ])\n",
    "    env.panda.q=q_far\n",
    "    env.scene.step()\n",
    "    for i in range(14):\n",
    "        a=[0,-1,0]\n",
    "        s=env.get_q()\n",
    "        pos,r,done,info=env.step(a)\n",
    "        exp_replay.add(s, a, r, pos, done)\n",
    "        print(pos,r,env.fitness())\n",
    "    for i in range(16):\n",
    "        a=[1,0,0]\n",
    "        s=env.get_q()\n",
    "        pos,r,done,info=env.step(a)\n",
    "        exp_replay.add(s, a, r, pos, done)\n",
    "        print(pos,r,env.fitness())\n",
    "    for i in range(22):\n",
    "        a=[0,0,-1]\n",
    "        s=env.get_q()\n",
    "        pos,r,done,info=env.step(a)\n",
    "        exp_replay.add(s, a, r, pos, done)\n",
    "        print(pos,r,env.fitness())"
   ]
  },
  {
   "cell_type": "code",
   "execution_count": 15,
   "metadata": {},
   "outputs": [],
   "source": [
    "# Fill buffer with samples collected ramdomly from environment\n",
    "buffer_len=1000\n",
    "# exp_replay = ReplayBuffer(buffer_len)\n",
    "\n",
    "\n",
    "if NEW_BUFFER:\n",
    "    \n",
    "    for i in range(50):\n",
    "        \n",
    "        state=env.reset()\n",
    "        # Play 100 runs of experience with 100 steps and  stop if reach 10**4 samples\n",
    "        play_and_record(state, agent, env, exp_replay, n_steps=60)\n",
    "        \n",
    "        if len(exp_replay) == buffer_len:\n",
    "            break\n",
    "    print(len(exp_replay))\n",
    "\n",
    "\n",
    "\n",
    "    with open('buffer.pickle', 'wb') as handle:\n",
    "        pickle.dump(exp_replay.buffer, handle, protocol=pickle.HIGHEST_PROTOCOL)\n",
    "        \n",
    "else:\n",
    "    exp_replay = ReplayBuffer(buffer_len)\n",
    "    with open('buffer.pickle', 'rb') as handle:\n",
    "        exp_replay.buffer=pickle.load(handle)\n",
    "\n"
   ]
  },
  {
   "cell_type": "code",
   "execution_count": 16,
   "metadata": {},
   "outputs": [],
   "source": [
    "# percentage_of_total_steps=0.4"
   ]
  },
  {
   "cell_type": "code",
   "execution_count": 17,
   "metadata": {},
   "outputs": [],
   "source": [
    "#setup some parameters for training\n",
    "timesteps_per_epoch = 1\n",
    "batch_size = 64\n",
    "total_steps = 10 * 10**3\n",
    "#total_steps = 10\n",
    "\n",
    "#init Optimizer\n",
    "opt = torch.optim.Adam(agent.parameters(), lr=1e-4)\n",
    "\n",
    "# set exploration epsilon \n",
    "start_epsilon = 1\n",
    "end_epsilon = 0.05\n",
    "eps_decay_final_step = percentage_of_total_steps*total_steps\n",
    "\n",
    "# setup some frequency for logging and updating target network\n",
    "loss_freq = 40\n",
    "refresh_target_network_freq = 100\n",
    "eval_freq = 500\n",
    "\n",
    "# to clip the gradients\n",
    "max_grad_norm = 5000"
   ]
  },
  {
   "cell_type": "code",
   "execution_count": 18,
   "metadata": {},
   "outputs": [
    {
     "name": "stdout",
     "output_type": "stream",
     "text": [
      "buffer size = 1000, epsilon = 0.05000\n",
      "Frequency evaluation = 500\n"
     ]
    },
    {
     "data": {
      "image/png": "[encoded data removed]",
      "text/plain": [
       "<Figure size 1600x500 with 2 Axes>"
      ]
     },
     "metadata": {},
     "output_type": "display_data"
    },
    {
     "name": "stderr",
     "output_type": "stream",
     "text": [
      "100%|██████████| 10001/10001 [42:48<00:00,  3.89it/s]\n"
     ]
    }
   ],
   "source": [
    "if TRAIN:\n",
    "    state = env.reset()\n",
    "    for step in trange(total_steps + 1):\n",
    "        \n",
    "        \n",
    "        # reduce exploration as we progress\n",
    "        agent.epsilon = epsilon_schedule(start_epsilon, end_epsilon, step, eps_decay_final_step)\n",
    "\n",
    "        # take timesteps_per_epoch and update experience replay buffer\n",
    "        _, state = play_and_record(state, agent, env, exp_replay, timesteps_per_epoch)\n",
    "\n",
    "        # train by sampling batch_size of data from experience replay\n",
    "        states, actions, rewards, next_states, done_flags = exp_replay.sample(batch_size)\n",
    "        actions =[agent.get_action_index(i) for i in actions]\n",
    "        \n",
    "\n",
    "        # loss = <compute TD loss>\n",
    "        loss = compute_td_loss(agent, target_network, \n",
    "                            states, actions, rewards, next_states, done_flags,                  \n",
    "                            gamma=0.99,\n",
    "                            device=device)\n",
    "\n",
    "        loss.backward()\n",
    "        grad_norm = nn.utils.clip_grad_norm_(agent.parameters(), max_grad_norm)\n",
    "        opt.step()\n",
    "        opt.zero_grad()\n",
    "\n",
    "        if step % loss_freq == 0:\n",
    "            td_loss_history.append(loss.data.cpu().item())\n",
    "\n",
    "        if step % refresh_target_network_freq == 0:\n",
    "            # Load agent weights into target_network\n",
    "            target_network.load_state_dict(agent.state_dict())\n",
    "\n",
    "        if step % eval_freq == 0:\n",
    "            # eval the agent\n",
    "            mean_rw_history.append(evaluate(env, agent, n_games=40, greedy=True, t_max=60)[0] )\n",
    "\n",
    "            clear_output(True)\n",
    "            print(\"buffer size = %i, epsilon = %.5f\" %\n",
    "                (len(exp_replay), agent.epsilon))\n",
    "            print(f\"Frequency evaluation = {eval_freq}\")\n",
    "\n",
    "            plt.figure(figsize=[16, 5])\n",
    "            plt.subplot(1, 2, 1)\n",
    "            plt.title(\"Mean reward per episode\")\n",
    "            plt.plot(mean_rw_history)\n",
    "            plt.grid()\n",
    "\n",
    "            assert not np.isnan(td_loss_history[-1])\n",
    "            plt.subplot(1, 2, 2)\n",
    "            plt.title(\"TD loss history (smoothened)\")\n",
    "            plt.plot(smoothen(td_loss_history))\n",
    "            plt.grid()\n",
    "            plt.show()"
   ]
  },
  {
   "cell_type": "code",
   "execution_count": 24,
   "metadata": {},
   "outputs": [
    {
     "name": "stdout",
     "output_type": "stream",
     "text": [
      "final score:-19.19696601346368 in 49.0 steps\n",
      "[['', '']]\n",
      "Well done , Distance: 0.19493696480557715\n",
      "collision False\n"
     ]
    }
   ],
   "source": [
    "\n",
    "\n",
    "final_score,m_steps,infos = evaluate(env,agent, n_games=1, greedy=True, t_max=50)\n",
    "print(f'final score:{final_score} in {m_steps} steps')\n",
    "print(infos)\n",
    "print(f'Well done , Distance: {env.distance()}')\n",
    "print(f\"collision {env.detect_collision()[0]}\")"
   ]
  },
  {
   "cell_type": "code",
   "execution_count": 20,
   "metadata": {},
   "outputs": [],
   "source": [
    "SAVE_AGENT=False\n",
    "SAVE_AGENT=False\n",
    "\n",
    "if SAVE_AGENT:\n",
    "    torch.save(agent.state_dict(), 'model_panda_trained3.pth')\n",
    "    with open('mean_rw_history3.pickle', 'wb') as handle:\n",
    "        pickle.dump(mean_rw_history, handle, protocol=pickle.HIGHEST_PROTOCOL)\n",
    "    with open('td_loss_history3.pickle', 'wb') as handle:\n",
    "        pickle.dump(td_loss_history, handle, protocol=pickle.HIGHEST_PROTOCOL)"
   ]
  },
  {
   "cell_type": "code",
   "execution_count": 21,
   "metadata": {},
   "outputs": [
    {
     "name": "stdout",
     "output_type": "stream",
     "text": [
      "[ 0.47 -1.46  1.93] -0.31434354714937784 False ['', '']\n"
     ]
    }
   ],
   "source": [
    "state = env.reset()\n",
    "qvalues = agent.get_qvalues([state])\n",
    "action = agent.actions_space[qvalues.argmax(axis=-1)[0]]\n",
    "state, r, done, info = env.step(action)\n",
    "print(state, r, done, info)"
   ]
  },
  {
   "cell_type": "code",
   "execution_count": 22,
   "metadata": {},
   "outputs": [],
   "source": [
    "qvalues = agent.get_qvalues([state])\n",
    "action = agent.actions_space[qvalues.argmax(axis=-1)[0]]\n",
    "state, r, done, _ = env.step(action)"
   ]
  },
  {
   "cell_type": "code",
   "execution_count": 23,
   "metadata": {},
   "outputs": [
    {
     "name": "stdout",
     "output_type": "stream",
     "text": [
      "Got reward: -60.23543929349693\n",
      "Done , Distance: 0.11567246589957013\n",
      "collision False\n",
      "['', '']\n"
     ]
    }
   ],
   "source": [
    "state = env.reset()\n",
    "reward = 0\n",
    "while True:\n",
    "    qvalues = agent.get_qvalues([state])\n",
    "    action = agent.actions_space[qvalues.argmax(axis=-1)[0]]\n",
    "    state, r, done, info = env.step(action)\n",
    "    reward += r\n",
    "    #print(reward)\n",
    "    if done or reward < -60:\n",
    "        print('Got reward: {}'.format(reward))\n",
    "        break\n",
    "print(f'Done , Distance: {env.distance()}')\n",
    "print(f\"collision {env.detect_collision()[0]}\")\n",
    "print(info)"
   ]
  },
  {
   "cell_type": "code",
   "execution_count": 24,
   "metadata": {},
   "outputs": [
    {
     "data": {
      "text/plain": [
       "array([[37.720524, 37.62541 , 37.7483  , 37.662205, 37.581844, 37.723557,\n",
       "        37.18852 , 37.282505, 37.045635, 37.559494, 37.64467 , 37.614708,\n",
       "        37.549328, 37.694244, 37.145237, 37.227955, 37.039345, 36.688076,\n",
       "        36.48168 , 37.024166, 36.7472  , 37.522846, 37.011032, 36.137203,\n",
       "        36.146122, 36.124207]], dtype=float32)"
      ]
     },
     "execution_count": 24,
     "metadata": {},
     "output_type": "execute_result"
    }
   ],
   "source": [
    "state=env.get_q()\n",
    "qvalues = agent.get_qvalues([state])\n",
    "qvalues"
   ]
  },
  {
   "cell_type": "code",
   "execution_count": 25,
   "metadata": {},
   "outputs": [
    {
     "data": {
      "text/plain": [
       "3"
      ]
     },
     "execution_count": 25,
     "metadata": {},
     "output_type": "execute_result"
    }
   ],
   "source": [
    "len(a)"
   ]
  },
  {
   "cell_type": "markdown",
   "metadata": {},
   "source": [
    "**Let us record a video of trained agent**"
   ]
  },
  {
   "cell_type": "code",
   "execution_count": 26,
   "metadata": {},
   "outputs": [],
   "source": [
    "# # Animate learned policy\n",
    "# save_dir='./videos/'\n",
    "# #env = make_env(env_name)\n",
    "# generate_animation(env, agent, save_dir=save_dir)\n",
    "# [filepath] = glob.glob(os.path.join(save_dir, '*.mp4'))\n",
    "\n",
    "# display_animation(filepath)"
   ]
  },
  {
   "cell_type": "code",
   "execution_count": 27,
   "metadata": {},
   "outputs": [],
   "source": [
    "#TODO\n",
    "\n",
    "# Run this on another environment in OpenAI Gym\n",
    "# Create a robotic environment with more actions\n",
    "#"
   ]
  }
 ],
 "metadata": {
  "kernelspec": {
   "display_name": "Python 3.10.6 ('RTB')",
   "language": "python",
   "name": "python3"
  },
  "language_info": {
   "codemirror_mode": {
    "name": "ipython",
    "version": 3
   },
   "file_extension": ".py",
   "mimetype": "text/x-python",
   "name": "python",
   "nbconvert_exporter": "python",
   "pygments_lexer": "ipython3",
   "version": "3.10.6"
  },
  "vscode": {
   "interpreter": {
    "hash": "007c3d4ec7d1faff975b7b2e6628fd4907f6779597816faa5595ad19bf6f4797"
   }
  }
 },
 "nbformat": 4,
 "nbformat_minor": 1
}
