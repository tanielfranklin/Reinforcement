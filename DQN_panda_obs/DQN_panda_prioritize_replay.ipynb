{
 "cells": [
  {
   "cell_type": "markdown",
   "metadata": {},
   "source": [
    "# Implementação DQN com prioritized replay no ambiente Swift com manipulador panda.\n",
    "\n",
    "Replay buffer <br>\n",
    "DNN para representar o agente atual e uma DNN alvo com uma taxa de atualização menor."
   ]
  },
  {
   "cell_type": "code",
   "execution_count": 1,
   "metadata": {},
   "outputs": [],
   "source": [
    "import torch\n",
    "import pickle\n",
    "import random\n",
    "import torch.nn as nn\n",
    "import numpy as np\n",
    "import matplotlib.pyplot as plt\n",
    "from tqdm import trange\n",
    "from IPython.display import clear_output\n",
    "from scipy.signal import convolve, gaussian\n",
    "import os\n",
    "import io\n",
    "import base64\n",
    "import time\n",
    "import glob\n",
    "from IPython.display import HTML\n",
    "from DQN_panda_utils import DQNAgent, evaluate,\\\n",
    "        compute_td_loss_priority_replay,play_and_record, smoothen, epsilon_schedule,\\\n",
    "                generate_animation, display_animation\n",
    "from prioritized_replay_buffer import PrioritizedReplayBuffer\n",
    "\n",
    "from panda_env import Panda_RL\n",
    "                \n",
    "device = torch.device('cuda' if torch.cuda.is_available() else 'cpu')\n",
    "%matplotlib inline\n",
    "\n",
    "#j3 range -0.08 a 3.75  #j2 range -0.07 a -3. #j1 range -1.8 a 1.76"
   ]
  },
  {
   "cell_type": "code",
   "execution_count": 2,
   "metadata": {},
   "outputs": [
    {
     "data": {
      "text/plain": [
       "True"
      ]
     },
     "execution_count": 2,
     "metadata": {},
     "output_type": "execute_result"
    }
   ],
   "source": [
    "torch.cuda.is_available()"
   ]
  },
  {
   "cell_type": "markdown",
   "metadata": {},
   "source": [
    "### Sistema observável e com medidas dos ângulos disponíveis"
   ]
  },
  {
   "cell_type": "markdown",
   "metadata": {},
   "source": [
    "\n",
    "    Observation:\n",
    "        Type: Box(4)\n",
    "        Num     Observation               Min                     Max\n",
    "        0       Joint1                   -4.8                    4.8\n",
    "        1       Joint2                    -Inf                    Inf\n",
    "        2       Joint3                -0.418 rad (-24 deg)    0.418 rad (24 deg)\n",
    "        \n",
    "    Actions:\n",
    "        Type: Discrete(9)\n",
    "        Num   Three actions for each joint\n",
    "        0     decrement joint j\n",
    "        1     increment joint j\n",
    "        2     decrement join  j\n",
    "\n",
    "        #j3 range 0.0 a 3.7\n",
    "        #j2 range 0.0 a -3.\n",
    "        #j1 range -1.7 a 1.7\n",
    "\n",
    "\n",
    "        \n",
    "\n"
   ]
  },
  {
   "cell_type": "code",
   "execution_count": 3,
   "metadata": {},
   "outputs": [],
   "source": [
    "# self.panda = rp.models.Panda()\n",
    "# self.panda_end = rp.models.Panda()\n",
    "# self.m=100 #magnification factor\n",
    "\n",
    "# self.obstacle = Cuboid([0.2, 0.2, 0.8], pose=sm.SE3(0.3, 0, 0)) \n",
    "# #self.floor = Cuboid([0.2, 0.2, 0.8], pose=sm.SE3(-0.2, 0, 0)) \n",
    "# self.obs_floor = Cuboid([2., 2., 0.01], pose=sm.SE3(0, 0, 0), color=[100,100,100,0])#\"black\") #color=[100,100,100,0]\n",
    "# self.scene.add(self.obs_floor)\n",
    "# self.scene.add(self.obstacle)\n",
    "# self.scene.add(self.panda, robot_alpha=0.6)\n",
    "# self.delta=delta\n",
    "# #End joints positions\n",
    "# j=[0.8,-1.5,1] \n",
    "# self.q_end=[0., j[0], 0.,j[1], 0., j[2], 0.]\n",
    "# self.Tep = self.panda.fkine(self.q_end)"
   ]
  },
  {
   "cell_type": "code",
   "execution_count": 4,
   "metadata": {},
   "outputs": [],
   "source": [
    "state_shape = 3\n",
    "env=Panda_RL()\n",
    "agent=DQNAgent(state_shape, epsilon=0).to(device)\n",
    "env.delta=0.02\n",
    "RESTORE_AGENT=False # Restore a trained agent\n",
    "NEW_BUFFER=True # Restore a buffer\n",
    "TRAIN=True # Train or only simulate\n",
    "env.renderize=True #stop robot viewing"
   ]
  },
  {
   "cell_type": "code",
   "execution_count": 5,
   "metadata": {},
   "outputs": [
    {
     "data": {
      "text/plain": [
       "ERobot: panda (by Franka Emika), 7 joints (RRRRRRR), 1 gripper, geometry, collision\n",
       "┌─────┬──────────────┬───────┬─────────────┬────────────────────────────────────────────────┐\n",
       "│link │     link     │ joint │   parent    │              ETS: parent to link               │\n",
       "├─────┼──────────────┼───────┼─────────────┼────────────────────────────────────────────────┤\n",
       "│   0 │ panda_link0  │       │ BASE        │                                                │\n",
       "│   1 │ panda_link1  │     0 │ panda_link0 │ SE3(0, 0, 0.333) ⊕ Rz(q0)                      │\n",
       "│   2 │ panda_link2  │     1 │ panda_link1 │ SE3(-90°, -0°, 0°) ⊕ Rz(q1)                    │\n",
       "│   3 │ panda_link3  │     2 │ panda_link2 │ SE3(0, -0.316, 0; 90°, -0°, 0°) ⊕ Rz(q2)       │\n",
       "│   4 │ panda_link4  │     3 │ panda_link3 │ SE3(0.0825, 0, 0; 90°, -0°, 0°) ⊕ Rz(q3)       │\n",
       "│   5 │ panda_link5  │     4 │ panda_link4 │ SE3(-0.0825, 0.384, 0; -90°, -0°, 0°) ⊕ Rz(q4) │\n",
       "│   6 │ panda_link6  │     5 │ panda_link5 │ SE3(90°, -0°, 0°) ⊕ Rz(q5)                     │\n",
       "│   7 │ panda_link7  │     6 │ panda_link6 │ SE3(0.088, 0, 0; 90°, -0°, 0°) ⊕ Rz(q6)        │\n",
       "│   8 │ @panda_link8 │       │ panda_link7 │ SE3(0, 0, 0.107)                               │\n",
       "└─────┴──────────────┴───────┴─────────────┴────────────────────────────────────────────────┘\n",
       "\n",
       "┌─────┬─────┬────────┬─────┬───────┬─────┬───────┬──────┐\n",
       "│name │ q0  │ q1     │ q2  │ q3    │ q4  │ q5    │ q6   │\n",
       "├─────┼─────┼────────┼─────┼───────┼─────┼───────┼──────┤\n",
       "│  qr │  0° │ -17.2° │  0° │ -126° │  0° │  115° │  45° │\n",
       "│  qz │  0° │  0°    │  0° │  0°   │  0° │  0°   │  0°  │\n",
       "└─────┴─────┴────────┴─────┴───────┴─────┴───────┴──────┘"
      ]
     },
     "execution_count": 5,
     "metadata": {},
     "output_type": "execute_result"
    }
   ],
   "source": [
    "if RESTORE_AGENT:\n",
    "    percentage_of_total_steps=0.1\n",
    "    agent.load_state_dict(torch.load('model_panda_trained_prio.pth'))\n",
    "    with open('td_loss_history_prio.pickle', 'rb') as handle:\n",
    "        td_loss_history_prio=pickle.load(handle)\n",
    "    with open('mean_rw_history_prio.pickle', 'rb') as handle:\n",
    "        mean_rw_history_prio=pickle.load(handle)\n",
    "else:\n",
    "    percentage_of_total_steps=0.9\n",
    "    mean_rw_history_prio = []\n",
    "    td_loss_history_prio = []\n",
    "\n",
    "env.panda"
   ]
  },
  {
   "cell_type": "code",
   "execution_count": 5,
   "metadata": {},
   "outputs": [
    {
     "data": {
      "text/plain": [
       "<All keys matched successfully>"
      ]
     },
     "execution_count": 5,
     "metadata": {},
     "output_type": "execute_result"
    }
   ],
   "source": [
    "target_network = DQNAgent(agent.state_shape, epsilon=0.5).to(device)\n",
    "#Copying weights from agent network\n",
    "target_network.load_state_dict(agent.state_dict())"
   ]
  },
  {
   "cell_type": "code",
   "execution_count": 6,
   "metadata": {},
   "outputs": [
    {
     "data": {
      "text/plain": [
       "<torch._C.Generator at 0x7fd9eb41d1b0>"
      ]
     },
     "execution_count": 6,
     "metadata": {},
     "output_type": "execute_result"
    }
   ],
   "source": [
    "env.panda.q=env.panda.qz\n",
    "# set a seed\n",
    "seed = 13\n",
    "random.seed(seed)\n",
    "np.random.seed(seed)\n",
    "torch.manual_seed(seed)"
   ]
  },
  {
   "cell_type": "code",
   "execution_count": 7,
   "metadata": {},
   "outputs": [
    {
     "name": "stdout",
     "output_type": "stream",
     "text": [
      "4.342661864180592 10.28177829\n"
     ]
    }
   ],
   "source": [
    "q_far=np.array([ 0., -0.8 ,  0. , -0.0698,  0.,  3.3825,  0.    ])\n",
    "env.panda.q=q_far\n",
    "env.scene.step()\n",
    "print(env.distance(),env.fitness())\n"
   ]
  },
  {
   "cell_type": "code",
   "execution_count": 8,
   "metadata": {},
   "outputs": [
    {
     "name": "stdout",
     "output_type": "stream",
     "text": [
      "1.6138186274239739 3.68547204\n"
     ]
    }
   ],
   "source": [
    "env.panda.q=env.panda.qz\n",
    "env.scene.step()\n",
    "print(env.distance(),env.fitness())"
   ]
  },
  {
   "cell_type": "code",
   "execution_count": 9,
   "metadata": {},
   "outputs": [
    {
     "name": "stdout",
     "output_type": "stream",
     "text": [
      "0.6141983869955122 0.0\n"
     ]
    },
    {
     "data": {
      "text/plain": [
       "   0.1892    0.1892   -0.9636    0.4463    \n",
       "   0.7071   -0.7071    0         0         \n",
       "  -0.6813   -0.6813   -0.2675    0.1586    \n",
       "   0         0         0         1         \n"
      ]
     },
     "execution_count": 9,
     "metadata": {},
     "output_type": "execute_result"
    }
   ],
   "source": [
    "env.panda.q=env.q_goal\n",
    "env.scene.step()\n",
    "print(env.distance(),env.fitness())\n",
    "T_end=env.panda.fkine(env.q_goal)\n",
    "T_end"
   ]
  },
  {
   "cell_type": "markdown",
   "metadata": {},
   "source": [
    "### Main loop\n",
    "\n"
   ]
  },
  {
   "cell_type": "code",
   "execution_count": 10,
   "metadata": {},
   "outputs": [
    {
     "name": "stderr",
     "output_type": "stream",
     "text": [
      "/home/taniel/anaconda3/envs/RTB/lib/python3.10/site-packages/roboticstoolbox/robot/Link.py:1041: FutureWarning: base kwarg is deprecated, use pose instead\n",
      "  warn(\"base kwarg is deprecated, use pose instead\", FutureWarning)\n",
      "pybullet build time: Jul 21 2022 19:48:53\n"
     ]
    },
    {
     "name": "stdout",
     "output_type": "stream",
     "text": [
      "[-0.8    -0.0898  3.3825] -157.06958338579005 10.22497029\n",
      "[-0.8    -0.1098  3.3825] 155.94302298524505 10.16896229\n",
      "[-0.8    -0.1298  3.3825] 155.92655421741415 10.11375429\n",
      "[-0.8    -0.1498  3.3825] 155.9096012106255 10.05934629\n",
      "[-0.8    -0.1698  3.3825] 155.89214228976132 10.00573829\n",
      "[-0.8    -0.1898  3.3825] 155.87415446656772 9.952930290000001\n",
      "[-0.8    -0.2098  3.3825] 155.8556133386899 9.90092229\n",
      "[-0.8    -0.2298  3.3825] 155.83649297924484 9.84971429\n",
      "[-0.8    -0.2498  3.3825] 155.81676581588383 9.79930629\n",
      "[-0.8    -0.2698  3.3825] 155.79640249815708 9.74969829\n",
      "[-0.8    -0.2898  3.3825] 155.7753717518387 9.70089029\n",
      "[-0.8    -0.3098  3.3825] 155.75364021869365 9.65288229\n",
      "[-0.8    -0.3298  3.3825] 155.73117227995795 9.60567429\n",
      "[-0.8    -0.3498  3.3825] 155.70792986156928 9.55926629\n",
      "[-0.8    -0.3698  3.3825] 155.68387221890873 9.51365829\n",
      "[-0.8    -0.3898  3.3825] 155.6589556984926 9.468850289999999\n",
      "[-0.8    -0.4098  3.3825] 155.63313347368387 9.42484229\n",
      "[-0.8    -0.4298  3.3825] 155.60635525105906 9.381634290000001\n",
      "[-0.8    -0.4498  3.3825] 155.57856694355442 9.33922629\n",
      "[-0.8    -0.4698  3.3825] 155.5497103059264 9.297618289999999\n",
      "[-0.8    -0.4898  3.3825] 155.51972252735646 9.25681029\n",
      "[-0.8    -0.5098  3.3825] 155.48853577520512 9.21680229\n",
      "[-0.8    -0.5298  3.3825] 155.45607668294238 9.17759429\n",
      "[-0.8    -0.5498  3.3825] 155.4222657741232 9.13918629\n",
      "[-0.8    -0.5698  3.3825] 155.387016812888 9.101578289999999\n",
      "[-0.8    -0.5898  3.3825] 155.350236069821 9.06477029\n",
      "[-0.8    -0.6098  3.3825] 155.31182149001157 9.02876229\n",
      "[-0.8    -0.6298  3.3825] 155.2716617477755 8.993554289999999\n",
      "[-0.8    -0.6498  3.3825] 155.22963516960752 8.95914629\n",
      "[-0.8    -0.6698  3.3825] 155.18560850342638 8.925538289999999\n",
      "[-0.8    -0.6898  3.3825] 155.1394355079 8.89273029\n",
      "[-0.8    -0.7098  3.3825] 155.09095533040693 8.86072229\n",
      "[-0.8    -0.7298  3.3825] 155.03999063573977 8.829514289999999\n",
      "[-0.8    -0.7498  3.3825] 154.98634543970078 8.79910629\n",
      "[-0.8    -0.7698  3.3825] 154.92980259183554 8.76949829\n",
      "[-0.8    -0.7898  3.3825] 154.8701208391789 8.74069029\n",
      "[-0.8    -0.8098  3.3825] 154.80703138734867 8.71268229\n",
      "[-0.8    -0.8298  3.3825] 154.74023385566576 8.68547429\n",
      "[-0.8    -0.8498  3.3825] 154.6693914979807 8.65906629\n",
      "[-0.8    -0.8698  3.3825] 154.59412552887005 8.63345829\n",
      "[-0.8    -0.8898  3.3825] 154.51400835357413 8.60865029\n",
      "[-0.8    -0.9098  3.3825] 154.42855544639997 8.58464229\n",
      "[-0.8    -0.9298  3.3825] 154.33721555205508 8.56143429\n",
      "[-0.8    -0.9498  3.3825] 154.23935879160146 8.539026289999999\n",
      "[-0.8    -0.9698  3.3825] 154.134262131103 8.51741829\n",
      "[-0.8    -0.9898  3.3825] 154.02109150476795 8.49661029\n",
      "[-0.8    -1.0098  3.3825] 153.89887965844628 8.476602289999999\n",
      "[-0.8    -1.0298  3.3825] 153.76649846899346 8.45739429\n",
      "[-0.8    -1.0498  3.3825] 153.62262406365247 8.438986289999999\n",
      "[-0.8    -1.0698  3.3825] 153.46569245653382 8.42137829\n",
      "[-0.8    -1.0898  3.3825] 153.2938425531948 8.404570289999999\n",
      "[-0.8    -1.1098  3.3825] 153.10484212035436 8.38856229\n",
      "[-0.8    -1.1298  3.3825] 152.89599047307905 8.37335429\n",
      "[-0.8    -1.1498  3.3825] 152.66398887001935 8.358946289999999\n",
      "[-0.8    -1.1698  3.3825] 152.40476539296932 8.34533829\n",
      "[-0.8    -1.1898  3.3825] 152.11323451915368 8.33253029\n",
      "[-0.8    -1.2098  3.3825] 151.78296111771908 8.32052229\n",
      "[-0.8    -1.2298  3.3825] 151.40568145102444 8.30931429\n",
      "[-0.8    -1.2498  3.3825] 150.97060485885137 8.29890629\n",
      "[-0.8    -1.2698  3.3825] 150.4633694810024 8.28929829\n",
      "[-0.8    -1.2898  3.3825] 149.86443444308492 8.28049029\n",
      "[-0.8    -1.3098  3.3825] 149.14651948396192 8.27248229\n",
      "[-0.8    -1.3298  3.3825] 148.27036342056294 8.26527429\n",
      "[-0.8    -1.3498  3.3825] 147.17736022069226 8.25886629\n",
      "[-0.8    -1.3698  3.3825] 145.776029510874 8.25325829\n",
      "[-0.8    -1.3898  3.3825] 143.9153643821837 8.248450290000001\n",
      "[-0.8    -1.4098  3.3825] 141.32749783144715 8.24444229\n",
      "[-0.8    -1.4298  3.3825] 137.48939424204085 8.24123429\n",
      "[-0.8    -1.4498  3.3825] 131.23328235709405 8.23882629\n",
      "[-0.8    -1.4698  3.3825] 119.38226625625575 8.23721829\n",
      "[-0.8    -1.4898  3.3825] 90.34797214593806 8.23641029\n",
      "[-0.8    -1.5098  3.3825] 1.2565709208755458 8.236402290000001\n",
      "[-0.8    -1.5298  3.3825] -89.37348000382825 8.23719429\n",
      "[-0.8    -1.5498  3.3825] -119.03875468645207 8.23878629\n",
      "[-0.8    -1.5698  3.3825] -131.06806674636925 8.24117829\n",
      "[-0.8    -1.5898  3.3825] -137.39370892462458 8.24437029\n",
      "[-0.8    -1.6098  3.3825] -141.26540835874096 8.24836229\n",
      "[-0.8    -1.6298  3.3825] -143.87191878689433 8.253154290000001\n",
      "[-0.8    -1.6498  3.3825] -145.7439632579927 8.258746290000001\n",
      "[-0.8    -1.6698  3.3825] -147.15273587209083 8.26513829\n",
      "[-0.8    -1.6898  3.3825] -148.25086706073586 8.272330290000001\n",
      "[-0.8    -1.7098  3.3825] -149.13070412589457 8.28032229\n",
      "[-0.8    -1.7298  3.3825] -149.85134961115313 8.28911429\n",
      "[-0.8    -1.7498  3.3825] -150.45236543840815 8.29870629\n",
      "[-0.8    -1.7698  3.3825] -150.96122255735716 8.309098290000001\n",
      "[-0.8    -1.7898  3.3825] -151.3975874477111 8.32029029\n",
      "[-0.8    -1.8098  3.3825] -151.7759074140591 8.332282290000002\n",
      "[-0.8    -1.8298  3.3825] -152.10703286756183 8.345074290000001\n",
      "[-0.8    -1.8498  3.3825] -152.39927034038803 8.35866629\n",
      "[-0.8    -1.8698  3.3825] -152.65908626104851 8.373058290000001\n",
      "[-0.8    -1.8898  3.3825] -152.8915894678139 8.388250290000002\n",
      "[-0.8    -1.9098  3.3825] -153.10086953495863 8.404242290000001\n",
      "[-0.8    -1.9298  3.3825] -153.2902387716317 8.421034290000001\n",
      "[-0.8    -1.9498  3.3825] -153.46240842735438 8.438626290000002\n",
      "[-0.78   -1.9498  3.3825] 156.07869162350218 8.375026290000001\n",
      "[-0.76   -1.9498  3.3825] 156.0659416500054 8.312226290000002\n",
      "[-0.74   -1.9498  3.3825] 156.05286267918365 8.25022629\n",
      "[-0.72   -1.9498  3.3825] 156.03944181100667 8.189026290000001\n",
      "[-0.7    -1.9498  3.3825] 156.0256654621225 8.128626290000001\n",
      "[-0.68   -1.9498  3.3825] 156.01151932000673 8.06902629\n",
      "[-0.66   -1.9498  3.3825] 155.99698829337004 8.01022629\n",
      "[-0.64   -1.9498  3.3825] 155.9820564584632 7.9522262900000005\n",
      "[-0.62   -1.9498  3.3825] 155.96670700087685 7.895026290000001\n",
      "[-0.6    -1.9498  3.3825] 155.95092215238944 7.8386262900000006\n",
      "[-0.58   -1.9498  3.3825] 155.93468312236533 7.7830262900000005\n",
      "[-0.56   -1.9498  3.3825] 155.91797002314541 7.72822629\n",
      "[-0.54   -1.9498  3.3825] 155.90076178880773 7.67422629\n",
      "[-0.52   -1.9498  3.3825] 155.88303608660098 7.6210262900000005\n",
      "[-0.5    -1.9498  3.3825] 155.86476922026742 7.56862629\n",
      "[-0.48   -1.9498  3.3825] 155.84593602437548 7.51702629\n",
      "[-0.46   -1.9498  3.3825] 155.8265097486721 7.46622629\n",
      "[-0.44   -1.9498  3.3825] 155.80646193133634 7.41622629\n",
      "[-0.42   -1.9498  3.3825] 155.78576225987246 7.36702629\n",
      "[-0.4    -1.9498  3.3825] 155.7643784182123 7.31862629\n",
      "[-0.38   -1.9498  3.3825] 155.74227591840577 7.27102629\n",
      "[-0.36   -1.9498  3.3825] 155.71941791505583 7.22422629\n",
      "[-0.34   -1.9498  3.3825] 155.69576500039847 7.17822629\n",
      "[-0.32   -1.9498  3.3825] 155.67127497763062 7.13302629\n",
      "[-0.3    -1.9498  3.3825] 155.64590260974458 7.0886262900000006\n",
      "[-0.28   -1.9498  3.3825] 155.61959934072368 7.04502629\n",
      "[-0.26   -1.9498  3.3825] 155.59231298548585 7.00222629\n",
      "[-0.24   -1.9498  3.3825] 155.5639873844102 6.96022629\n",
      "[-0.22   -1.9498  3.3825] 155.53456201763515 6.91902629\n",
      "[-0.2    -1.9498  3.3825] 155.50397157355607 6.87862629\n",
      "[-0.18   -1.9498  3.3825] 155.47214546504898 6.8390262900000005\n",
      "[-0.16   -1.9498  3.3825] 155.4390072858817 6.80022629\n",
      "[-0.14   -1.9498  3.3825] 155.4044741985026 6.76222629\n",
      "[-0.12   -1.9498  3.3825] 155.36845624288605 6.725026290000001\n",
      "[-0.1    -1.9498  3.3825] 155.33085555429744 6.68862629\n",
      "[-0.08   -1.9498  3.3825] 155.29156547566143 6.653026290000001\n",
      "[-0.06   -1.9498  3.3825] 155.25046954758938 6.61822629\n",
      "[-0.04   -1.9498  3.3825] 155.2074403559297 6.58422629\n",
      "[-0.02   -1.9498  3.3825] 155.16233821283444 6.55102629\n",
      "[ 3.95516953e-16 -1.94980000e+00  3.38250000e+00] 155.11500964259085 6.51862629\n",
      "[ 0.02   -1.9498  3.3825] 155.06528563765661 6.48702629\n",
      "[ 0.04   -1.9498  3.3825] 155.01297964316 6.45622629\n",
      "[ 0.06   -1.9498  3.3825] 154.9578852192342 6.426226290000001\n",
      "[ 0.08   -1.9498  3.3825] 154.89977331947335 6.39702629\n",
      "[ 0.1    -1.9498  3.3825] 154.8383891099066 6.36862629\n",
      "[ 0.12   -1.9498  3.3825] 154.77344823538522 6.34102629\n",
      "[ 0.14   -1.9498  3.3825] 154.70463241807272 6.314226290000001\n",
      "[ 0.16   -1.9498  3.3825] 154.63158424439163 6.288226290000001\n",
      "[ 0.18   -1.9498  3.3825] 154.55390096036317 6.263026290000001\n",
      "[ 0.2    -1.9498  3.3825] 154.47112704812852 6.238626290000001\n",
      "[ 0.22   -1.9498  3.3825] 154.38274529494518 6.215026290000001\n",
      "[ 0.24   -1.9498  3.3825] 154.28816598507865 6.192226290000001\n",
      "[ 0.26   -1.9498  3.3825] 154.18671373773202 6.1702262900000004\n",
      "[ 0.28   -1.9498  3.3825] 154.0776113705413 6.14902629\n",
      "[ 0.3    -1.9498  3.3825] 153.95995997400092 6.128626290000001\n",
      "[ 0.32   -1.9498  3.3825] 153.83271411691203 6.109026290000001\n",
      "[ 0.34   -1.9498  3.3825] 153.69465073640555 6.09022629\n",
      "[ 0.36   -1.9498  3.3825] 153.54432975345952 6.072226290000001\n",
      "[ 0.38   -1.9498  3.3825] 153.3800437284212 6.055026290000001\n",
      "[ 0.4    -1.9498  3.3825] 153.19975282705488 6.038626290000001\n",
      "[ 0.4    -1.9498  3.3625] 156.40881052670542 5.94372629\n",
      "[ 0.4    -1.9498  3.3425] 156.40310764236244 5.84962629\n",
      "[ 0.4    -1.9498  3.3225] 156.39730696387443 5.7563262900000005\n",
      "[ 0.4    -1.9498  3.3025] 156.39140595403796 5.66382629\n",
      "[ 0.4    -1.9498  3.2825] 156.3854019871174 5.57212629\n",
      "[ 0.4    -1.9498  3.2625] 156.3792923449493 5.4812262899999995\n",
      "[ 0.4    -1.9498  3.2425] 156.37307421283967 5.39112629\n",
      "[ 0.4    -1.9498  3.2225] 156.3667446752404 5.30182629\n",
      "[ 0.4    -1.9498  3.2025] 156.36030071119126 5.2133262899999995\n",
      "[ 0.4    -1.9498  3.1825] 156.3537391895127 5.12562629\n",
      "[ 0.4    -1.9498  3.1625] 156.34705686373306 5.03872629\n",
      "[ 0.4    -1.9498  3.1425] 156.3402503667327 4.9526262899999995\n",
      "[ 0.4    -1.9498  3.1225] 156.33331620508721 4.867326289999999\n",
      "[ 0.4    -1.9498  3.1025] 156.32625075308906 4.782826289999999\n",
      "[ 0.4    -1.9498  3.0825] 156.31905024642666 4.69912629\n",
      "[ 0.4    -1.9498  3.0625] 156.3117107754972 4.616226289999999\n",
      "[ 0.4    -1.9498  3.0425] 156.30422827832885 4.534126289999999\n",
      "[ 0.4    -1.9498  3.0225] 156.29659853308502 4.452826289999999\n",
      "[ 0.4    -1.9498  3.0025] 156.28881715012167 4.372326289999999\n",
      "[ 0.4    -1.9498  2.9825] 156.28087956356654 4.2926262899999985\n",
      "[ 0.4    -1.9498  2.9625] 156.27278102238586 4.2137262899999985\n",
      "[ 0.4    -1.9498  2.9425] 156.26451658090227 4.1356262899999985\n",
      "[ 0.4    -1.9498  2.9225] 156.2560810887243 4.058326289999998\n",
      "[ 0.4    -1.9498  2.9025] 156.2474691800435 3.981826289999999\n",
      "[ 0.4    -1.9498  2.8825] 156.23867526225357 3.9061262899999987\n",
      "[ 0.4    -1.9498  2.8625] 156.22969350383983 3.8312262899999983\n",
      "[ 0.4    -1.9498  2.8425] 156.22051782148466 3.7571262899999986\n",
      "[ 0.4    -1.9498  2.8225] 156.21114186632863 3.683826289999998\n",
      "[ 0.4    -1.9498  2.8025] 156.20155900932193 3.6113262899999983\n",
      "[ 0.4    -1.9498  2.7825] 156.19176232559568 3.5396262899999984\n",
      "[ 0.4    -1.9498  2.7625] 156.181744577775 3.4687262899999984\n",
      "[ 0.4    -1.9498  2.7425] 156.1714981981501 3.3986262899999984\n",
      "[ 0.4    -1.9498  2.7225] 156.16101526961222 3.3293262899999982\n",
      "[ 0.4    -1.9498  2.7025] 156.1502875052544 3.260826289999998\n",
      "[ 0.4    -1.9498  2.6825] 156.13930622652575 3.1931262899999986\n",
      "[ 0.4    -1.9498  2.6625] 156.12806233981925 3.126226289999998\n",
      "[ 0.4    -1.9498  2.6425] 156.11654631135897 3.0601262899999986\n",
      "[ 0.4    -1.9498  2.6225] 156.1047481402427 2.994826289999998\n",
      "[ 0.4    -1.9498  2.6025] 156.09265732947776 2.9303262899999982\n",
      "[ 0.4    -1.9498  2.5825] 156.08026285483592 2.8666262899999984\n",
      "[ 0.4    -1.9498  2.5625] 156.06755313133115 2.8037262899999984\n",
      "[ 0.4    -1.9498  2.5425] 156.05451597710754 2.7416262899999984\n",
      "[ 0.4    -1.9498  2.5225] 156.04113857449994 2.6803262899999982\n",
      "[ 0.4    -1.9498  2.5025] 156.02740742800586 2.619826289999998\n",
      "[ 0.4    -1.9498  2.4825] 156.01330831887944 2.5601262899999977\n",
      "[ 0.4    -1.9498  2.4625] 155.99882625602572 2.501226289999998\n",
      "[ 0.4    -1.9498  2.4425] 155.9839454228393 2.4431262899999977\n",
      "[ 0.4    -1.9498  2.4225] 155.9686491195907 2.385826289999998\n",
      "[ 0.4    -1.9498  2.4025] 155.9529197009198 2.3293262899999982\n",
      "[ 0.4    -1.9498  2.3825] 155.93673850794403 2.273626289999998\n",
      "[ 0.4    -1.9498  2.3625] 155.9200857944326 2.218726289999998\n",
      "[ 0.4    -1.9498  2.3425] 155.90294064643248 2.164626289999998\n",
      "[ 0.4    -1.9498  2.3225] 155.88528089465873 2.111326289999998\n",
      "[ 0.4    -1.9498  2.3025] 155.8670830188771 2.058826289999998\n",
      "[ 0.4    -1.9498  2.2825] 155.84832204341248 2.0071262899999978\n",
      "[ 0.4    -1.9498  2.2625] 155.82897142280672 1.956226289999998\n",
      "[ 0.4    -1.9498  2.2425] 155.80900291652588 1.906126289999998\n",
      "[ 0.4    -1.9498  2.2225] 155.78838645147252 1.8568262899999979\n",
      "[ 0.4    -1.9498  2.2025] 155.76708997089662 1.808326289999998\n",
      "[ 0.4    -1.9498  2.1825] 155.74507926810855 1.760626289999998\n",
      "[ 0.4    -1.9498  2.1625] 155.72231780318 1.7137262899999979\n",
      "[ 0.4    -1.9498  2.1425] 155.69876650056798 1.667626289999998\n",
      "[ 0.4    -1.9498  2.1225] 155.6743835253043 1.622326289999998\n",
      "[ 0.4    -1.9498  2.1025] 155.6491240350543 1.577826289999998\n",
      "[ 0.4    -1.9498  2.0825] 155.6229399049552 1.534126289999998\n",
      "[ 0.4    -1.9498  2.0625] 155.59577942168144 1.491226289999998\n",
      "[ 0.4    -1.9498  2.0425] 155.56758694264735 1.449126289999998\n",
      "[ 0.4    -1.9498  2.0225] 155.5383025156217 1.407826289999998\n",
      "[ 0.4    -1.9498  2.0025] 155.50786145328445 1.367326289999998\n",
      "[ 0.4    -1.9498  1.9825] 155.47619385637347 1.3276262899999982\n",
      "[ 0.4    -1.9498  1.9625] 155.44322407802548 1.288726289999998\n",
      "[ 0.4    -1.9498  1.9425] 155.40887012067375 1.2506262899999983\n",
      "[ 0.4    -1.9498  1.9225] 155.37304295538476 1.2133262899999981\n",
      "[ 0.4    -1.9498  1.9025] 155.33564575174205 1.1768262899999982\n",
      "[ 0.4    -1.9498  1.8825] 155.29657300425762 1.141126289999998\n",
      "[ 0.4    -1.9498  1.8625] 155.25570953872116 1.1062262899999982\n",
      "[ 0.4    -1.9498  1.8425] 155.21292937878647 1.0721262899999981\n",
      "[ 0.4    -1.9498  1.8225] 155.1680944493136 1.0388262899999983\n",
      "[ 0.4    -1.9498  1.8025] 155.12105308836445 1.0063262899999983\n",
      "[ 0.4    -1.9498  1.7825] 155.071638334083 0.9746262899999983\n",
      "[ 0.4    -1.9498  1.7625] 155.01966594570467 0.9437262899999984\n",
      "[ 0.4    -1.9498  1.7425] 154.9649321092854 0.9136262899999984\n",
      "[ 0.4    -1.9498  1.7225] 154.90721076796038 0.8843262899999985\n",
      "[ 0.4    -1.9498  1.7025] 154.84625050304706 0.8558262899999985\n",
      "[ 0.4    -1.9498  1.6825] 154.7817708753032 0.8281262899999986\n",
      "[ 0.4    -1.9498  1.6625] 154.71345811411013 0.8012262899999987\n",
      "[ 0.4    -1.9498  1.6425] 154.6409600148726 0.7751262899999987\n",
      "[ 0.4    -1.9498  1.6225] 154.56387986964694 0.7498262899999987\n"
     ]
    }
   ],
   "source": [
    "# Fill buffer with samples collected ramdomly from environment\n",
    "buffer_len=5000\n",
    "tmax=300\n",
    "env.renderize=False\n",
    "if NEW_BUFFER:\n",
    "    exp_replay = PrioritizedReplayBuffer(buffer_len)\n",
    "    #Add Expert user experience\n",
    "    q_far=np.array([ 0., -0.8 ,  0. , -0.0698,  0.,  3.3825,  0.    ])\n",
    "    env.panda.q=q_far\n",
    "    env.scene.step()\n",
    "    for i in range(94):\n",
    "        a=[0,-1,0]\n",
    "        s=env.get_q()\n",
    "        pos,r,done,info=env.step(a)\n",
    "        exp_replay.add(s, a, r, pos, done)\n",
    "        print(pos,r,env.fitness())\n",
    "    for i in range(60):\n",
    "        a=[1,0,0]\n",
    "        s=env.get_q()\n",
    "        pos,r,done,info=env.step(a)\n",
    "        exp_replay.add(s, a, r, pos, done)\n",
    "        print(pos,r,env.fitness())\n",
    "    for i in range(88):\n",
    "        a=[0,0,-1]\n",
    "        s=env.get_q()\n",
    "        pos,r,done,info=env.step(a)\n",
    "        exp_replay.add(s, a, r, pos, done)\n",
    "        print(pos,r,env.fitness())"
   ]
  },
  {
   "cell_type": "code",
   "execution_count": 11,
   "metadata": {},
   "outputs": [
    {
     "name": "stdout",
     "output_type": "stream",
     "text": [
      "3242\n"
     ]
    }
   ],
   "source": [
    "\n",
    "# exp_replay = ReplayBuffer(buffer_len)\n",
    "env.renderize=False\n",
    "\n",
    "if NEW_BUFFER:\n",
    "    \n",
    "    for i in range(50):\n",
    "        \n",
    "        state=env.reset()\n",
    "        # Play 100 runs of experience with 100 steps and  stop if reach 10**4 samples\n",
    "        play_and_record(state, agent, env, exp_replay, n_steps=60)\n",
    "        \n",
    "        if len(exp_replay) == buffer_len:\n",
    "            break\n",
    "    print(len(exp_replay))\n",
    "\n",
    "\n",
    "\n",
    "    with open('buffer.pickle', 'wb') as handle:\n",
    "        pickle.dump(exp_replay.buffer, handle, protocol=pickle.HIGHEST_PROTOCOL)\n",
    "        \n",
    "else:\n",
    "    exp_replay = PrioritizedReplayBuffer(buffer_len)\n",
    "    with open('buffer.pickle', 'rb') as handle:\n",
    "        exp_replay.buffer=pickle.load(handle)\n",
    "\n"
   ]
  },
  {
   "cell_type": "code",
   "execution_count": 13,
   "metadata": {},
   "outputs": [],
   "source": [
    "percentage_of_total_steps=0.9"
   ]
  },
  {
   "cell_type": "code",
   "execution_count": 14,
   "metadata": {},
   "outputs": [],
   "source": [
    "#setup some parameters for training\n",
    "timesteps_per_epoch = 1\n",
    "batch_size = 64\n",
    "total_steps = 1 * 10**3\n",
    "#total_steps = 10\n",
    "\n",
    "#init Optimizer\n",
    "opt = torch.optim.Adam(agent.parameters(), lr=1e-3)\n",
    "\n",
    "# set exploration epsilon \n",
    "start_epsilon = 1\n",
    "end_epsilon = 0.05\n",
    "eps_decay_final_step = percentage_of_total_steps*total_steps\n",
    "\n",
    "# setup some frequency for logging and updating target network\n",
    "loss_freq = 40\n",
    "refresh_target_network_freq = 100\n",
    "eval_freq = 500\n",
    "\n",
    "# to clip the gradients\n",
    "max_grad_norm = 5000"
   ]
  },
  {
   "cell_type": "code",
   "execution_count": 15,
   "metadata": {},
   "outputs": [
    {
     "name": "stderr",
     "output_type": "stream",
     "text": [
      "/home/taniel/anaconda3/envs/RTB/lib/python3.10/site-packages/roboticstoolbox/robot/Link.py:1041: FutureWarning: base kwarg is deprecated, use pose instead\n",
      "  warn(\"base kwarg is deprecated, use pose instead\", FutureWarning)\n",
      "  0%|          | 0/1001 [00:00<?, ?it/s]\n"
     ]
    },
    {
     "ename": "NameError",
     "evalue": "name 'compute_td_loss_priority_replay' is not defined",
     "output_type": "error",
     "traceback": [
      "\u001b[0;31m---------------------------------------------------------------------------\u001b[0m",
      "\u001b[0;31mNameError\u001b[0m                                 Traceback (most recent call last)",
      "Cell \u001b[0;32mIn [15], line 21\u001b[0m\n\u001b[1;32m     16\u001b[0m actions \u001b[39m=\u001b[39m[agent\u001b[39m.\u001b[39mget_action_index(i) \u001b[39mfor\u001b[39;00m i \u001b[39min\u001b[39;00m actions]\n\u001b[1;32m     19\u001b[0m \u001b[39m# loss = <compute TD loss>\u001b[39;00m\n\u001b[0;32m---> 21\u001b[0m loss \u001b[39m=\u001b[39m compute_td_loss_priority_replay(agent, target_network, exp_replay,\n\u001b[1;32m     22\u001b[0m                    states, actions, rewards, next_states, done_flags, weights, idxs,              \n\u001b[1;32m     23\u001b[0m                    gamma\u001b[39m=\u001b[39m\u001b[39m0.99\u001b[39m,\n\u001b[1;32m     24\u001b[0m                    device\u001b[39m=\u001b[39mdevice)\n\u001b[1;32m     26\u001b[0m loss\u001b[39m.\u001b[39mbackward()\n\u001b[1;32m     27\u001b[0m grad_norm \u001b[39m=\u001b[39m nn\u001b[39m.\u001b[39mutils\u001b[39m.\u001b[39mclip_grad_norm_(agent\u001b[39m.\u001b[39mparameters(), max_grad_norm)\n",
      "\u001b[0;31mNameError\u001b[0m: name 'compute_td_loss_priority_replay' is not defined"
     ]
    }
   ],
   "source": [
    "env.renderize=False\n",
    "if TRAIN:\n",
    "    state = env.reset()\n",
    "    for step in trange(total_steps + 1):\n",
    "        \n",
    "        \n",
    "        # reduce exploration as we progress\n",
    "        agent.epsilon = epsilon_schedule(start_epsilon, end_epsilon, step, eps_decay_final_step)\n",
    "\n",
    "        # take timesteps_per_epoch and update experience replay buffer\n",
    "        _, state = play_and_record(state, agent, env, exp_replay, timesteps_per_epoch)\n",
    "\n",
    "        \n",
    "        # train by sampling batch_size of data from experience replay\n",
    "        states, actions, rewards, next_states, done_flags, weights, idxs = exp_replay.sample(batch_size)\n",
    "        actions =[agent.get_action_index(i) for i in actions]\n",
    "        \n",
    "\n",
    "        # loss = <compute TD loss>\n",
    "\n",
    "        loss = compute_td_loss_priority_replay(agent, target_network, exp_replay,\n",
    "                           states, actions, rewards, next_states, done_flags, weights, idxs,              \n",
    "                           gamma=0.99,\n",
    "                           device=device)\n",
    "\n",
    "        loss.backward()\n",
    "        grad_norm = nn.utils.clip_grad_norm_(agent.parameters(), max_grad_norm)\n",
    "        opt.step()\n",
    "        opt.zero_grad()\n",
    "\n",
    "        if step % loss_freq == 0:\n",
    "            td_loss_history_prio.append(loss.data.cpu().item())\n",
    "\n",
    "        if step % refresh_target_network_freq == 0:\n",
    "            # Load agent weights into target_network\n",
    "            target_network.load_state_dict(agent.state_dict())\n",
    "\n",
    "        if step % eval_freq == 0:\n",
    "            # eval the agent\n",
    "            mean_rw_history_prio.append(evaluate(env, agent, n_games=40, greedy=True, t_max=tmax)[0] )\n",
    "\n",
    "            clear_output(True)\n",
    "            print(\"buffer size = %i, epsilon = %.5f\" %\n",
    "                (len(exp_replay), agent.epsilon))\n",
    "            print(f\"Frequency evaluation = {eval_freq}\")\n",
    "\n",
    "            plt.figure(figsize=[16, 5])\n",
    "            plt.subplot(1, 2, 1)\n",
    "            plt.title(\"Mean reward per episode\")\n",
    "            plt.plot(mean_rw_history_prio)\n",
    "            plt.grid()\n",
    "\n",
    "            assert not np.isnan(td_loss_history_prio[-1])\n",
    "            plt.subplot(1, 2, 2)\n",
    "            plt.title(\"TD loss history (smoothened)\")\n",
    "            plt.plot(smoothen(td_loss_history_prio))\n",
    "            plt.grid()\n",
    "            plt.show()"
   ]
  },
  {
   "cell_type": "code",
   "execution_count": 26,
   "metadata": {},
   "outputs": [
    {
     "name": "stdout",
     "output_type": "stream",
     "text": [
      "final score:55698.23862110917 in 499.0 steps\n",
      "[['', '']]\n",
      "Well done , Distance: 0.7214149700443037, Fitness: 0.042599999999999534\n",
      "collision False\n"
     ]
    }
   ],
   "source": [
    "env.renderize=True\n",
    "final_score,m_steps,infos = evaluate(env,agent, n_games=1, greedy=True, t_max=500)\n",
    "print(f'final score:{final_score} in {m_steps} steps')\n",
    "print(infos)\n",
    "print(f'Well done , Distance: {env.distance()}, Fitness: {env.fitness()}')\n",
    "print(f\"collision {env.detect_collision()[0]}\")"
   ]
  },
  {
   "cell_type": "code",
   "execution_count": 27,
   "metadata": {},
   "outputs": [],
   "source": [
    "SAVE_AGENT=False\n",
    "#SAVE_AGENT=True\n",
    "\n",
    "FILE_PREFIX=['mean_rw_history','td_loss_history']\n",
    "EXTENSION='.pickle'\n",
    "NAME=\"-reduced_network\"\n",
    "FILENAME=[]\n",
    "for i in FILE_PREFIX:\n",
    "    FILENAME.append(i+NAME+EXTENSION)\n",
    "\n",
    "\n",
    "if SAVE_AGENT:\n",
    "    torch.save(agent.state_dict(), 'model_panda_trained.pth')\n",
    "    for (i,j) in zip(FILENAME,FILE_PREFIX):\n",
    "        with open(i, 'wb') as handle:\n",
    "            pickle.dump(j, handle, protocol=pickle.HIGHEST_PROTOCOL)\n",
    "   "
   ]
  },
  {
   "cell_type": "code",
   "execution_count": 21,
   "metadata": {},
   "outputs": [
    {
     "name": "stdout",
     "output_type": "stream",
     "text": [
      "[ 0.47 -1.46  1.93] -0.31434354714937784 False ['', '']\n"
     ]
    }
   ],
   "source": [
    "state = env.reset()\n",
    "qvalues = agent.get_qvalues([state])\n",
    "action = agent.actions_space[qvalues.argmax(axis=-1)[0]]\n",
    "state, r, done, info = env.step(action)\n",
    "print(state, r, done, info)"
   ]
  },
  {
   "cell_type": "code",
   "execution_count": 22,
   "metadata": {},
   "outputs": [],
   "source": [
    "qvalues = agent.get_qvalues([state])\n",
    "action = agent.actions_space[qvalues.argmax(axis=-1)[0]]\n",
    "state, r, done, _ = env.step(action)"
   ]
  },
  {
   "cell_type": "code",
   "execution_count": 23,
   "metadata": {},
   "outputs": [
    {
     "name": "stdout",
     "output_type": "stream",
     "text": [
      "Got reward: -60.23543929349693\n",
      "Done , Distance: 0.11567246589957013\n",
      "collision False\n",
      "['', '']\n"
     ]
    }
   ],
   "source": [
    "state = env.reset()\n",
    "reward = 0\n",
    "while True:\n",
    "    qvalues = agent.get_qvalues([state])\n",
    "    action = agent.actions_space[qvalues.argmax(axis=-1)[0]]\n",
    "    state, r, done, info = env.step(action)\n",
    "    reward += r\n",
    "    #print(reward)\n",
    "    if done or reward < -60:\n",
    "        print('Got reward: {}'.format(reward))\n",
    "        break\n",
    "print(f'Done , Distance: {env.distance()}')\n",
    "print(f\"collision {env.detect_collision()[0]}\")\n",
    "print(info)"
   ]
  },
  {
   "cell_type": "code",
   "execution_count": 24,
   "metadata": {},
   "outputs": [
    {
     "data": {
      "text/plain": [
       "array([[37.720524, 37.62541 , 37.7483  , 37.662205, 37.581844, 37.723557,\n",
       "        37.18852 , 37.282505, 37.045635, 37.559494, 37.64467 , 37.614708,\n",
       "        37.549328, 37.694244, 37.145237, 37.227955, 37.039345, 36.688076,\n",
       "        36.48168 , 37.024166, 36.7472  , 37.522846, 37.011032, 36.137203,\n",
       "        36.146122, 36.124207]], dtype=float32)"
      ]
     },
     "execution_count": 24,
     "metadata": {},
     "output_type": "execute_result"
    }
   ],
   "source": [
    "state=env.get_q()\n",
    "qvalues = agent.get_qvalues([state])\n",
    "qvalues"
   ]
  },
  {
   "cell_type": "code",
   "execution_count": 25,
   "metadata": {},
   "outputs": [
    {
     "data": {
      "text/plain": [
       "3"
      ]
     },
     "execution_count": 25,
     "metadata": {},
     "output_type": "execute_result"
    }
   ],
   "source": [
    "len(a)"
   ]
  },
  {
   "cell_type": "markdown",
   "metadata": {},
   "source": [
    "**Let us record a video of trained agent**"
   ]
  },
  {
   "cell_type": "code",
   "execution_count": 26,
   "metadata": {},
   "outputs": [],
   "source": [
    "# # Animate learned policy\n",
    "# save_dir='./videos/'\n",
    "# #env = make_env(env_name)\n",
    "# generate_animation(env, agent, save_dir=save_dir)\n",
    "# [filepath] = glob.glob(os.path.join(save_dir, '*.mp4'))\n",
    "\n",
    "# display_animation(filepath)"
   ]
  },
  {
   "cell_type": "code",
   "execution_count": 27,
   "metadata": {},
   "outputs": [],
   "source": [
    "#TODO\n",
    "\n",
    "# Run this on another environment in OpenAI Gym\n",
    "# Create a robotic environment with more actions\n",
    "#"
   ]
  }
 ],
 "metadata": {
  "kernelspec": {
   "display_name": "Python 3.10.6 ('RTB')",
   "language": "python",
   "name": "python3"
  },
  "language_info": {
   "codemirror_mode": {
    "name": "ipython",
    "version": 3
   },
   "file_extension": ".py",
   "mimetype": "text/x-python",
   "name": "python",
   "nbconvert_exporter": "python",
   "pygments_lexer": "ipython3",
   "version": "3.10.6"
  },
  "vscode": {
   "interpreter": {
    "hash": "007c3d4ec7d1faff975b7b2e6628fd4907f6779597816faa5595ad19bf6f4797"
   }
  }
 },
 "nbformat": 4,
 "nbformat_minor": 1
}
